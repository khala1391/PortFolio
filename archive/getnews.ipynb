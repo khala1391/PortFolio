{
 "cells": [
  {
   "cell_type": "code",
   "execution_count": 7,
   "id": "e14c3cc6",
   "metadata": {},
   "outputs": [],
   "source": [
    "import random\n",
    "import os\n",
    "import requests\n",
    "from datetime import datetime\n",
    "from collections import defaultdict\n",
    "import json"
   ]
  },
  {
   "cell_type": "code",
   "execution_count": 3,
   "id": "57a5d62b",
   "metadata": {},
   "outputs": [],
   "source": [
    "NEWS_API_KEY = os.environ.get(\"NEWS_API_KEY\")\n",
    "COMPANIES = [\"Google\",\n",
    "             \"Microsoft\",\n",
    "             \"Facebook\",\n",
    "             \"TSMC\",\n",
    "             \"NVIDIA\",\n",
    "             \"AMD\",\n",
    "             ]\n",
    "NEWS_ENDPOINT = \"https://newsapi.org/v2/everything\""
   ]
  },
  {
   "cell_type": "code",
   "execution_count": 4,
   "id": "5b08d18b",
   "metadata": {},
   "outputs": [
    {
     "name": "stdout",
     "output_type": "stream",
     "text": [
      "From (start): 2025-06-04T00:00:00\n",
      "To (end): 2025-06-08T22:12:56.675582\n"
     ]
    }
   ],
   "source": [
    "from datetime import datetime, timedelta\n",
    "\n",
    "now = datetime.now()\n",
    "start = (now - timedelta(days=4)).replace(hour=0, minute=0, second=0, microsecond=0)\n",
    "end = now\n",
    "\n",
    "start_iso = start.isoformat()  # e.g. '2025-06-04T00:00:00'\n",
    "end_iso = end.isoformat()      # e.g. '2025-06-08T15:23:45.123456'\n",
    "\n",
    "print(\"From (start):\", start_iso)\n",
    "print(\"To (end):\", end_iso)"
   ]
  },
  {
   "cell_type": "code",
   "execution_count": null,
   "id": "0a28dfdd",
   "metadata": {},
   "outputs": [
    {
     "ename": "NameError",
     "evalue": "name 'company' is not defined",
     "output_type": "error",
     "traceback": [
      "\u001b[1;31m---------------------------------------------------------------------------\u001b[0m",
      "\u001b[1;31mNameError\u001b[0m                                 Traceback (most recent call last)",
      "Cell \u001b[1;32mIn[6], line 13\u001b[0m\n\u001b[0;32m      1\u001b[0m news_parameters \u001b[38;5;241m=\u001b[39m {\n\u001b[0;32m      2\u001b[0m     \u001b[38;5;124m'\u001b[39m\u001b[38;5;124mapiKey\u001b[39m\u001b[38;5;124m'\u001b[39m: os\u001b[38;5;241m.\u001b[39menviron\u001b[38;5;241m.\u001b[39mget(\u001b[38;5;124m'\u001b[39m\u001b[38;5;124mNEWS_Hmail_API_KEY\u001b[39m\u001b[38;5;124m'\u001b[39m),\n\u001b[0;32m      3\u001b[0m     \u001b[38;5;66;03m# 'apiKey': os.environ.get('NEWS_API_KEY'),\u001b[39;00m\n\u001b[1;32m   (...)\u001b[0m\n\u001b[0;32m      9\u001b[0m     \u001b[38;5;124m'\u001b[39m\u001b[38;5;124msortBy\u001b[39m\u001b[38;5;124m'\u001b[39m: [\u001b[38;5;124m'\u001b[39m\u001b[38;5;124mpopularity\u001b[39m\u001b[38;5;124m'\u001b[39m,\u001b[38;5;124m'\u001b[39m\u001b[38;5;124mrelevancy\u001b[39m\u001b[38;5;124m'\u001b[39m]\n\u001b[0;32m     10\u001b[0m     }\n\u001b[0;32m     12\u001b[0m news_response \u001b[38;5;241m=\u001b[39m requests\u001b[38;5;241m.\u001b[39mget(NEWS_ENDPOINT, params\u001b[38;5;241m=\u001b[39mnews_parameters)\n\u001b[1;32m---> 13\u001b[0m \u001b[38;5;28mprint\u001b[39m(\u001b[38;5;124mf\u001b[39m\u001b[38;5;124m\"\u001b[39m\u001b[38;5;132;01m{\u001b[39;00mcompany\u001b[38;5;132;01m}\u001b[39;00m\u001b[38;5;124m - Status Code:\u001b[39m\u001b[38;5;124m\"\u001b[39m, news_response\u001b[38;5;241m.\u001b[39mstatus_code)\n",
      "\u001b[1;31mNameError\u001b[0m: name 'company' is not defined"
     ]
    }
   ],
   "source": [
    "# news_parameters = {\n",
    "#     'apiKey': os.environ.get('NEWS_Hmail_API_KEY'),\n",
    "#     # 'apiKey': os.environ.get('NEWS_API_KEY'),\n",
    "#     'qInTitle': COMPANIES,\n",
    "#     'qInDescription': ['datascience','machine learning','deep learning', 'AI'],\n",
    "#     'language': 'en',\n",
    "#     'from': start_iso,\n",
    "#     'to': end_iso,\n",
    "#     'sortBy': ['publishedAt','relevancy','popularity']\n",
    "#     }\n",
    "\n",
    "# news_response = requests.get(NEWS_ENDPOINT, params=news_parameters)\n",
    "# print(f\"{COMPANIES} - Status Code:\", news_response.status_code)"
   ]
  },
  {
   "cell_type": "code",
   "execution_count": 5,
   "id": "cc0b0740",
   "metadata": {},
   "outputs": [
    {
     "name": "stdout",
     "output_type": "stream",
     "text": [
      "\n",
      "Top 3 for Google:\n",
      " - U.S. CISA adds Google Chromium V8 flaw to its Known Exploited Vulnerabilities catalog\n",
      "\n",
      "Top 3 for Microsoft:\n",
      " - Microsoft Photos Adds New AI Features for Insiders on Copilot+ PCs\n",
      " - Critical flaw in Cisco ISE impacts cloud deployments on AWS, Microsoft Azure, and Oracle Cloud Infrastructure\n",
      "\n",
      "Top 3 for Facebook:\n",
      "\n",
      "Top 3 for TSMC:\n",
      "\n",
      "Top 3 for NVIDIA:\n",
      " - Nvidia reaches historic 92% GPU market share, leaves AMD and Intel far behind\n",
      " - Nvidia extends desktop GPU market share lead beyond 90%\n",
      " - NVIDIA Dominates AIB GPU Market With 92% Share In Q1 2025, AMD Drops To 8% & Intel To 0%\n",
      "\n",
      "Top 3 for AMD:\n",
      " - Nvidia reaches historic 92% GPU market share, leaves AMD and Intel far behind\n",
      " - ASE adopts AMD CPUs, begins evaluating Instinct MI300-series GPUs for AI\n",
      " - AMD acqui-hires the employees behind Untether AI | TechCrunch\n"
     ]
    }
   ],
   "source": [
    "# Single API request for all companies\n",
    "def fetch_all_news():\n",
    "    params = {\n",
    "        'apiKey': os.environ.get('NEWS_Hmail_API_KEY'),\n",
    "        'q': ' OR '.join(COMPANIES) + ' AND (datascience OR \"machine learning\" OR \"deep learning\" OR AI)',\n",
    "        'language': 'en',\n",
    "        'from': start_iso,\n",
    "        'to': end_iso,\n",
    "        'sortBy': 'publishedAt',\n",
    "        'pageSize': 100  # Max is 100 for NewsAPI\n",
    "    }\n",
    "    response = requests.get(NEWS_ENDPOINT, params=params)\n",
    "    if response.status_code == 200:\n",
    "        return response.json().get(\"articles\", [])\n",
    "    return []\n",
    "\n",
    "# Group articles by company\n",
    "def group_articles_by_company(articles, companies):\n",
    "    grouped = defaultdict(list)\n",
    "    for article in articles:\n",
    "        title = article.get('title', '').lower()\n",
    "        for company in companies:\n",
    "            if company.lower() in title:\n",
    "                grouped[company].append(article)\n",
    "    # Select top 3 per company\n",
    "    return {company: grouped[company][:3] for company in companies}\n",
    "\n",
    "# Run\n",
    "all_articles = fetch_all_news()\n",
    "all_news = group_articles_by_company(all_articles, COMPANIES)\n",
    "\n",
    "# Optional: print or use `all_news`\n",
    "for company, news in all_news.items():\n",
    "    print(f\"\\nTop 3 for {company}:\")\n",
    "    for article in news:\n",
    "        print(f\" - {article['title']}\")"
   ]
  },
  {
   "cell_type": "code",
   "execution_count": 8,
   "id": "5b7a3400",
   "metadata": {},
   "outputs": [
    {
     "name": "stdout",
     "output_type": "stream",
     "text": [
      "Saved top 3 news articles per company to company_top3_news.json\n"
     ]
    }
   ],
   "source": [
    "# Save as JSON\n",
    "output_file = \"company_top3_news.json\"\n",
    "with open(output_file, \"w\", encoding=\"utf-8\") as f:\n",
    "    json.dump(all_news, f, indent=2, ensure_ascii=False)\n",
    "\n",
    "print(f\"Saved top 3 news articles per company to {output_file}\")"
   ]
  },
  {
   "cell_type": "code",
   "execution_count": null,
   "id": "1ca219df",
   "metadata": {},
   "outputs": [
    {
     "ename": "NameError",
     "evalue": "name '__file__' is not defined",
     "output_type": "error",
     "traceback": [
      "\u001b[1;31m---------------------------------------------------------------------------\u001b[0m",
      "\u001b[1;31mNameError\u001b[0m                                 Traceback (most recent call last)",
      "Cell \u001b[1;32mIn[9], line 1\u001b[0m\n\u001b[1;32m----> 1\u001b[0m script_dir \u001b[38;5;241m=\u001b[39m os\u001b[38;5;241m.\u001b[39mpath\u001b[38;5;241m.\u001b[39mdirname(os\u001b[38;5;241m.\u001b[39mpath\u001b[38;5;241m.\u001b[39mabspath(\u001b[38;5;18m__file__\u001b[39m))\n\u001b[0;32m      3\u001b[0m \u001b[38;5;66;03m# Full path for news.json in the same directory as the script\u001b[39;00m\n\u001b[0;32m      4\u001b[0m output_path \u001b[38;5;241m=\u001b[39m os\u001b[38;5;241m.\u001b[39mpath\u001b[38;5;241m.\u001b[39mjoin(script_dir, \u001b[38;5;124m\"\u001b[39m\u001b[38;5;124mnews.json\u001b[39m\u001b[38;5;124m\"\u001b[39m)\n",
      "\u001b[1;31mNameError\u001b[0m: name '__file__' is not defined"
     ]
    }
   ],
   "source": [
    "# script_dir = os.path.dirname(os.path.abspath(__file__))\n",
    "\n",
    "# # Full path for news.json in the same directory as the script\n",
    "# output_path = os.path.join(script_dir, \"news.json\")\n",
    "\n",
    "# with open(output_path, \"w\") as f:\n",
    "#     json.dump(all_news, f, indent=2)\n",
    "\n",
    "# print(f\"{output_path} updated.\")"
   ]
  },
  {
   "cell_type": "code",
   "execution_count": 10,
   "id": "e551ae30",
   "metadata": {},
   "outputs": [
    {
     "name": "stdout",
     "output_type": "stream",
     "text": [
      "c:\\Users\\khala\\MyDocuments\\00_DS\\02_PY\\U_PY_100DayOfCode\\PortFolio_Render\\news.json updated.\n"
     ]
    }
   ],
   "source": [
    "import os\n",
    "import json\n",
    "\n",
    "# For Jupyter notebooks\n",
    "script_dir = os.getcwd()\n",
    "\n",
    "# Full path for news.json in the current working directory\n",
    "output_path = os.path.join(script_dir, \"news.json\")\n",
    "\n",
    "with open(output_path, \"w\") as f:\n",
    "    json.dump(all_news, f, indent=2)\n",
    "\n",
    "print(f\"{output_path} updated.\")"
   ]
  },
  {
   "cell_type": "code",
   "execution_count": null,
   "id": "b9325dc9",
   "metadata": {},
   "outputs": [],
   "source": []
  }
 ],
 "metadata": {
  "kernelspec": {
   "display_name": "base",
   "language": "python",
   "name": "python3"
  },
  "language_info": {
   "codemirror_mode": {
    "name": "ipython",
    "version": 3
   },
   "file_extension": ".py",
   "mimetype": "text/x-python",
   "name": "python",
   "nbconvert_exporter": "python",
   "pygments_lexer": "ipython3",
   "version": "3.12.3"
  }
 },
 "nbformat": 4,
 "nbformat_minor": 5
}
