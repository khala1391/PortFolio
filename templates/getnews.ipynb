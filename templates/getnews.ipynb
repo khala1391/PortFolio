{
 "cells": [
  {
   "cell_type": "code",
   "execution_count": 2,
   "id": "e14c3cc6",
   "metadata": {},
   "outputs": [],
   "source": [
    "import random\n",
    "import os\n",
    "import requests"
   ]
  },
  {
   "cell_type": "code",
   "execution_count": 3,
   "id": "57a5d62b",
   "metadata": {},
   "outputs": [],
   "source": [
    "NEWS_ENDPOINT = \"https://newsapi.org/v2/everything\""
   ]
  },
  {
   "cell_type": "code",
   "execution_count": null,
   "id": "aeabb274",
   "metadata": {},
   "outputs": [
    {
     "name": "stdout",
     "output_type": "stream",
     "text": [
      "Google - Status Code: 200\n",
      "TSMC - Status Code: 200\n",
      "NVIDIA - Status Code: 200\n",
      "AMD - Status Code: 200\n"
     ]
    }
   ],
   "source": [
    "Companies = {\n",
    "    \"Google\": \"GOOGL\",\n",
    "    # \"Airbnb\": \"ABNB\",\n",
    "    # \"Uber\": \"UBER\",\n",
    "    # \"Facebook\": \"META\",\n",
    "    # \"Palantir\": \"PLTR\",\n",
    "    # \"Lyft\": \"LYFT\",\n",
    "    # \"Twitter\": \"TWTR\",\n",
    "    \"TSMC\": \"TSM\",\n",
    "    \"NVIDIA\": \"NVDA\",\n",
    "    \"AMD\": \"AMD\",\n",
    "}\n",
    "\n",
    "all_articles = []\n",
    "\n",
    "for company in Companies:\n",
    "    news_parameters = {\n",
    "    'apiKey': os.environ.get('NEWS_API_KEY'),\n",
    "    'qInTitle': company,\n",
    "    }\n",
    "    news_response = requests.get(NEWS_ENDPOINT, params=news_parameters)\n",
    "    print(f\"{company} - Status Code:\", news_response.status_code)\n",
    "\n",
    "    if news_response.status_code == 200:\n",
    "        try:\n",
    "            articles = news_response.json().get('articles', [])\n",
    "            three_articles = articles[:3]\n",
    "            all_articles.extend(articles)\n",
    "        except Exception as e:\n",
    "            print(f\"Error parsing articles for {company}: {e}\")\n",
    "    else:\n",
    "        print(f\"Failed to fetch news for {company}\")"
   ]
  },
  {
   "cell_type": "code",
   "execution_count": 12,
   "id": "02a5c616",
   "metadata": {},
   "outputs": [
    {
     "data": {
      "text/plain": [
       "{'source': {'id': 'wired', 'name': 'Wired'},\n",
       " 'author': 'Boone Ashworth',\n",
       " 'title': 'Everything Google Announced at I/O 2025',\n",
       " 'description': 'Artificial intelligence is now in everything Google touches, including its Android XR mixed-reality glasses, a revamped search experience, and Gemini’s new agentic capabilities.',\n",
       " 'url': 'https://www.wired.com/story/everything-google-announced-at-io-2025/',\n",
       " 'urlToImage': 'https://media.wired.com/photos/682cd709684cd01a32075fbb/191:100/w_1280,c_limit/Gear_googleIO_AP25140624814384.jpg',\n",
       " 'publishedAt': '2025-05-20T20:37:19Z',\n",
       " 'content': 'Some of these Gemini features will be coming to users of Android and Googles web apps for free, but others (and the more powerful feature sets) will be available via paid subscription. Googles $20 a … [+2547 chars]'}"
      ]
     },
     "execution_count": 12,
     "metadata": {},
     "output_type": "execute_result"
    }
   ],
   "source": [
    "all_articles[0]"
   ]
  },
  {
   "cell_type": "code",
   "execution_count": null,
   "id": "86dd6704",
   "metadata": {},
   "outputs": [],
   "source": [
    "all_articles"
   ]
  },
  {
   "cell_type": "code",
   "execution_count": 21,
   "id": "c9337b9c",
   "metadata": {},
   "outputs": [
    {
     "name": "stdout",
     "output_type": "stream",
     "text": [
      "Failed to post articles. Status Code: 401\n"
     ]
    }
   ],
   "source": [
    "NPOINT_ENDPOINT = \"https://api.npoint.io/381a523aff7eed833f29\"\n",
    "try:\n",
    "    post_response = requests.post(NPOINT_ENDPOINT, json=all_articles)\n",
    "    if post_response.status_code == 200 or post_response.status_code == 201:\n",
    "        print(\"Successfully posted articles to npoint.io\")\n",
    "    else:\n",
    "        print(f\"Failed to post articles. Status Code: {post_response.status_code}\")\n",
    "except Exception as e:\n",
    "    print(f\"Error posting to npoint.io: {e}\")"
   ]
  }
 ],
 "metadata": {
  "kernelspec": {
   "display_name": "base",
   "language": "python",
   "name": "python3"
  },
  "language_info": {
   "codemirror_mode": {
    "name": "ipython",
    "version": 3
   },
   "file_extension": ".py",
   "mimetype": "text/x-python",
   "name": "python",
   "nbconvert_exporter": "python",
   "pygments_lexer": "ipython3",
   "version": "3.12.3"
  }
 },
 "nbformat": 4,
 "nbformat_minor": 5
}
